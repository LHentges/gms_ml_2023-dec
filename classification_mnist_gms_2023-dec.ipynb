{
 "cells": [
  {
   "cell_type": "markdown",
   "id": "51414f95-affd-4cba-b46a-c134e0e29e76",
   "metadata": {
    "tags": []
   },
   "source": [
    "# MNIST classification using a SGD classifier and Scikit-Learn functions"
   ]
  },
  {
   "cell_type": "markdown",
   "id": "95c84858-d6a3-4d04-8494-5288c9a33d0a",
   "metadata": {},
   "source": [
    "### A few packages to get you going\n",
    "* We'll be loading many more throughout the tutorial\n",
    "* Download the dataset by executing the proceeding cells"
   ]
  },
  {
   "cell_type": "code",
   "execution_count": 12,
   "id": "a0fd32d7-d9f4-4e80-bb42-0877c2f51eee",
   "metadata": {},
   "outputs": [],
   "source": [
    "from sklearn.datasets import fetch_openml\n",
    "import matplotlib.pyplot as plt\n",
    "import numpy as np"
   ]
  },
  {
   "cell_type": "code",
   "execution_count": 3,
   "id": "a0afab77-e9d7-412e-ae78-7880cfad6c73",
   "metadata": {},
   "outputs": [],
   "source": [
    "mnist = fetch_openml('mnist_784', version=1, as_frame=False)"
   ]
  },
  {
   "cell_type": "markdown",
   "id": "240b1038-13d3-4d90-b775-657c04c3a981",
   "metadata": {},
   "source": [
    "* Print dictionary keys"
   ]
  },
  {
   "cell_type": "code",
   "execution_count": null,
   "id": "63ba03b9-7671-4b20-b96e-821d2c8bc240",
   "metadata": {},
   "outputs": [],
   "source": []
  },
  {
   "cell_type": "markdown",
   "id": "61367a84-b553-4aa9-86bb-1b27ac72c619",
   "metadata": {},
   "source": [
    "* Save the contents of the data and target from the MNIST dictionary into data_array and target array variables\n",
    "    * Also print out the shape of data_array\n",
    "* Notice the type of the target array – convert this to np.uint8 using the astype() method"
   ]
  },
  {
   "cell_type": "code",
   "execution_count": null,
   "id": "49455c61-01d9-4eab-b8fa-3f8ebb270f06",
   "metadata": {},
   "outputs": [],
   "source": []
  },
  {
   "cell_type": "code",
   "execution_count": null,
   "id": "37a19326-c631-4f7f-8db0-e05277d91212",
   "metadata": {},
   "outputs": [],
   "source": []
  },
  {
   "cell_type": "code",
   "execution_count": null,
   "id": "bbd23268-acc5-4b7a-b0ce-112a96aad64a",
   "metadata": {},
   "outputs": [],
   "source": []
  },
  {
   "cell_type": "markdown",
   "id": "77e43f92-3394-4192-925e-f89ac996beeb",
   "metadata": {},
   "source": [
    "* Print and glance over the description given in the mnist dictionary\n",
    "* Plot an image of the very first image in the dataset (matplotlib imshow)\n",
    "\n",
    "* Bonus ACTIVITY: Write a function that takes in the index of a sample and plots it\n"
   ]
  },
  {
   "cell_type": "code",
   "execution_count": null,
   "id": "3502601a-3b9a-4369-91d2-adb3d6bd17ec",
   "metadata": {},
   "outputs": [],
   "source": []
  },
  {
   "cell_type": "code",
   "execution_count": null,
   "id": "5dd44eb4-8d58-4f30-8711-39bfaa28ea06",
   "metadata": {},
   "outputs": [],
   "source": []
  },
  {
   "cell_type": "markdown",
   "id": "c98ac73c-f452-4252-b4e2-871be516f96e",
   "metadata": {},
   "source": [
    "### train_test_split\n",
    "* turn off shuffle"
   ]
  },
  {
   "cell_type": "code",
   "execution_count": null,
   "id": "b43cecf1-a1aa-4d9c-9679-e29c3538f88e",
   "metadata": {},
   "outputs": [],
   "source": []
  },
  {
   "cell_type": "code",
   "execution_count": null,
   "id": "e1984b5a-6dc7-4235-a9e8-2fbe961687b3",
   "metadata": {},
   "outputs": [],
   "source": []
  },
  {
   "cell_type": "markdown",
   "id": "b23f7d94-c8fd-46a3-9a22-16823a02aa95",
   "metadata": {},
   "source": [
    "### Make a new target array (for only train dataset) that is composed of Boolean values (True for 5s and False for not 5s)\n",
    "* Name the new array target_array_train_5\n"
   ]
  },
  {
   "cell_type": "code",
   "execution_count": null,
   "id": "28e78a67-c709-4108-92eb-f757eb0cfb77",
   "metadata": {},
   "outputs": [],
   "source": []
  },
  {
   "cell_type": "markdown",
   "id": "55328835-4085-425b-a73c-fec339225cdb",
   "metadata": {},
   "source": [
    "### SGDClassifier\n",
    "* Name it sgd_clf\n",
    "* Fit the model to the data with the fives target\n",
    "* Check to see if it worked using the predict function on a specific sample you know is a 5; also a sample you know is not a 5\n",
    "    * Individual predictions will require a reshape (necessary command will appear in error)\n"
   ]
  },
  {
   "cell_type": "code",
   "execution_count": null,
   "id": "fdff4302-6106-4a5b-9633-af8baea3a7a5",
   "metadata": {},
   "outputs": [],
   "source": []
  },
  {
   "cell_type": "code",
   "execution_count": null,
   "id": "f3c9eb4d-1b4e-4d89-807b-9169251f6e74",
   "metadata": {},
   "outputs": [],
   "source": []
  },
  {
   "cell_type": "code",
   "execution_count": null,
   "id": "443db94a-5e47-4ac6-b95c-8ffcfe07c3aa",
   "metadata": {},
   "outputs": [],
   "source": []
  },
  {
   "cell_type": "code",
   "execution_count": null,
   "id": "b7bb013a-2dc6-49dc-b6df-6c3ac37c9900",
   "metadata": {},
   "outputs": [],
   "source": []
  },
  {
   "cell_type": "code",
   "execution_count": null,
   "id": "d8636cee-98c0-4240-87c1-fdc8fba3d517",
   "metadata": {},
   "outputs": [],
   "source": []
  },
  {
   "cell_type": "markdown",
   "id": "3d29df6b-2979-4233-aa32-2513fa8f8e65",
   "metadata": {},
   "source": [
    "### cross_val_score\n",
    "* Implement it using 3-fold cross validation, scoring for accuracy\n"
   ]
  },
  {
   "cell_type": "code",
   "execution_count": null,
   "id": "a4d4fbc2-d6ad-4853-8598-c60c65d8fd00",
   "metadata": {},
   "outputs": [],
   "source": []
  },
  {
   "cell_type": "code",
   "execution_count": null,
   "id": "30a367a9-8e38-435f-beda-0e842d7149ec",
   "metadata": {},
   "outputs": [],
   "source": []
  },
  {
   "cell_type": "markdown",
   "id": "45dfe506-c95d-41e4-a231-d609a3f94bbd",
   "metadata": {},
   "source": [
    "### Calculate the accuracy if the model always predicted not-5\n"
   ]
  },
  {
   "cell_type": "code",
   "execution_count": null,
   "id": "8e7d84e1-a6f5-4042-b0ca-d30dd3e74d45",
   "metadata": {},
   "outputs": [],
   "source": []
  },
  {
   "cell_type": "markdown",
   "id": "8d3bdd18-ec4c-4f9e-805b-8139aa16783f",
   "metadata": {},
   "source": [
    "### cross_val_predict \n",
    "* Name the array of predictions target_array_train_5_pred\n"
   ]
  },
  {
   "cell_type": "code",
   "execution_count": null,
   "id": "29b5139a-fc61-4ca4-b502-32ae6040a64d",
   "metadata": {},
   "outputs": [],
   "source": []
  },
  {
   "cell_type": "markdown",
   "id": "2c24fdb8-01e8-47e9-a8e6-b65d999b8db5",
   "metadata": {},
   "source": [
    "### precision_score; recall_score"
   ]
  },
  {
   "cell_type": "code",
   "execution_count": null,
   "id": "6bd17b39-bf08-41e3-98ea-a70991c4f364",
   "metadata": {},
   "outputs": [],
   "source": []
  },
  {
   "cell_type": "code",
   "execution_count": null,
   "id": "77b38f16-f966-46af-a83e-9eb30c90a534",
   "metadata": {},
   "outputs": [],
   "source": []
  },
  {
   "cell_type": "code",
   "execution_count": null,
   "id": "0d813eb1-7d0d-4ec1-85de-0f22671a2180",
   "metadata": {},
   "outputs": [],
   "source": []
  },
  {
   "cell_type": "code",
   "execution_count": null,
   "id": "1bbad741-cb43-429c-b9db-678a47f96893",
   "metadata": {},
   "outputs": [],
   "source": []
  },
  {
   "cell_type": "markdown",
   "id": "1a71de58-02bf-4254-b80c-24f81677af41",
   "metadata": {},
   "source": [
    "### roc_curve\n",
    "* Run cross_val_predict as before, but add method='decision_function'\n",
    "* Use matplotlib plot to create ROC curve figure"
   ]
  },
  {
   "cell_type": "code",
   "execution_count": null,
   "id": "b41ee1fa-912b-48e9-8310-e3ddde73190a",
   "metadata": {},
   "outputs": [],
   "source": []
  },
  {
   "cell_type": "code",
   "execution_count": null,
   "id": "7ebaca50-0268-40c6-8c3f-d464ec35a727",
   "metadata": {},
   "outputs": [],
   "source": []
  },
  {
   "cell_type": "code",
   "execution_count": null,
   "id": "0b6a80c4-8e82-4374-8fbe-24810d4088a3",
   "metadata": {},
   "outputs": [],
   "source": []
  },
  {
   "cell_type": "code",
   "execution_count": null,
   "id": "119047da-af7a-4bd8-b110-cf5f33b26790",
   "metadata": {},
   "outputs": [],
   "source": []
  },
  {
   "cell_type": "markdown",
   "id": "a1d093f4-4f07-4bb8-afaa-462fd9c6fe16",
   "metadata": {},
   "source": [
    "### roc_auc_score"
   ]
  },
  {
   "cell_type": "code",
   "execution_count": null,
   "id": "63d131ec-b369-4154-9765-c6963423d02a",
   "metadata": {},
   "outputs": [],
   "source": []
  },
  {
   "cell_type": "code",
   "execution_count": null,
   "id": "c253cea7-1df7-45b1-9be3-27da83cbee62",
   "metadata": {},
   "outputs": [],
   "source": []
  },
  {
   "cell_type": "markdown",
   "id": "c42e41bd-2e4e-4dfc-86c4-e9f1af763fdf",
   "metadata": {},
   "source": [
    "### Find the cross_val_pred for the SGD classifier using all 10 classes (change targets)\n",
    "* Use a new variable target_array_train_pred to save predictions "
   ]
  },
  {
   "cell_type": "code",
   "execution_count": null,
   "id": "cf01346e-5bc0-488a-b9c5-093dac9d3f63",
   "metadata": {},
   "outputs": [],
   "source": []
  },
  {
   "cell_type": "code",
   "execution_count": null,
   "id": "2352a59c-6d60-4bd6-add5-a27298c01d15",
   "metadata": {},
   "outputs": [],
   "source": []
  },
  {
   "cell_type": "markdown",
   "id": "72fea275-944c-430d-9371-a00c2bacd530",
   "metadata": {},
   "source": [
    "### confusion_matrix"
   ]
  },
  {
   "cell_type": "code",
   "execution_count": null,
   "id": "b21d41ba-b140-4d8b-9718-aa5f813fd6ce",
   "metadata": {},
   "outputs": [],
   "source": []
  },
  {
   "cell_type": "code",
   "execution_count": null,
   "id": "2837e628-7412-486d-9d7d-e661e0e12b11",
   "metadata": {},
   "outputs": [],
   "source": []
  },
  {
   "cell_type": "markdown",
   "id": "c4ae4235-2044-49b5-862e-7ab8172e3c85",
   "metadata": {},
   "source": [
    "### StandardScaler"
   ]
  },
  {
   "cell_type": "code",
   "execution_count": null,
   "id": "141395e8-186d-4314-8479-a43b41fac924",
   "metadata": {},
   "outputs": [],
   "source": []
  },
  {
   "cell_type": "code",
   "execution_count": null,
   "id": "86ade10e-e58a-42a2-be32-d7e7b4a75a01",
   "metadata": {},
   "outputs": [],
   "source": []
  },
  {
   "cell_type": "code",
   "execution_count": null,
   "metadata": {},
   "outputs": [],
   "source": []
  }
 ],
 "metadata": {
  "kernelspec": {
   "display_name": "jup",
   "language": "python",
   "name": "python3"
  },
  "language_info": {
   "codemirror_mode": {
    "name": "ipython",
    "version": 3
   },
   "file_extension": ".py",
   "mimetype": "text/x-python",
   "name": "python",
   "nbconvert_exporter": "python",
   "pygments_lexer": "ipython3",
   "version": "3.11.5"
  }
 },
 "nbformat": 4,
 "nbformat_minor": 5
}
