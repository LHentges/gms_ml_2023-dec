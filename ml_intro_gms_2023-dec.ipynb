{
 "cells": [
  {
   "cell_type": "markdown",
   "id": "12533ba6-a414-4fe7-8bec-d4f27d39b2e5",
   "metadata": {},
   "source": [
    "# Using ML techniques to infer a multiplier\n",
    "\n",
    "### Scenario\n",
    "\n",
    "You discover that the number of apple seeds is directly tied to the overall weight of the fruit, the seed count just needs to be multiplied by some fixed number. Create a model such that given the number of seeds, you can predict the weight of the fruit. Use an iterative guessing approach to estimate the value of ***the multiplier.***"
   ]
  },
  {
   "cell_type": "markdown",
   "id": "2cc3efe5-553f-4be9-95e0-ee1a4c96ebea",
   "metadata": {},
   "source": [
    "### We use only a single package for the model and one more to load in the exact value of pi\n",
    "* numpy - this package handles matricies (or more technically arrays, which may have more dimensions than a matrix)\n",
    "* math - provides mathematical functions"
   ]
  },
  {
   "cell_type": "code",
   "execution_count": 1,
   "id": "6359a1f8-8f41-4709-9898-7faf13fa5d4a",
   "metadata": {},
   "outputs": [],
   "source": [
    "import numpy as np\n",
    "import math"
   ]
  },
  {
   "cell_type": "markdown",
   "id": "b9bcff20-4918-4051-838a-8e9e788d0400",
   "metadata": {},
   "source": [
    "## Part 1 - Set up data"
   ]
  },
  {
   "cell_type": "markdown",
   "id": "21f82737-0ec7-4981-aaea-b95537961a83",
   "metadata": {},
   "source": [
    "### Set the multiplier\n",
    "This will be the value the seed count is multiplied by, and the number we're trying to discover\n",
    "* Declare a variable named \"actual_multiplier\" and set it to the value of pi using the math module"
   ]
  },
  {
   "cell_type": "code",
   "execution_count": 67,
   "id": "767e5ea2-fd39-42c8-a615-34ebaff96076",
   "metadata": {},
   "outputs": [],
   "source": []
  },
  {
   "cell_type": "markdown",
   "id": "f27dd8bf-eaa5-4006-9ab8-d6905ddc249e",
   "metadata": {},
   "source": [
    "### Collect some apple seeds\n",
    "Collect some samples of apple seeds, and measure the associated fruits\n",
    "* To start we'll use 10 samples with different numbers of seeds in each sample. Here we'll use numbers 1, 2, ..., 9, 10\n",
    "    * Make a numpy array named seed_count_array with these values\n",
    "* For obvious reasons, we will not be measuring any apples right now. We're going to cheat a bit and say that the weight of the associated apples were the number of seeds times our multiplier value - plus noise\n",
    "    * Make a numpy array called apple_weight_array that is length 10, and equal to the seed_count_array times the actual_multiplier\n",
    "    * Use the np.random.random method to create an array of length 10, and name it noise_array\n",
    "    * Add the values from the elements of the noise array to the elements of apple_weight_array\n",
    "* Print out the actual_multiplier, seed_count_array, and apple_weight_array"
   ]
  },
  {
   "cell_type": "code",
   "execution_count": null,
   "id": "f3b5b472-30b9-49e1-bbe0-d5fa502896f2",
   "metadata": {},
   "outputs": [],
   "source": []
  },
  {
   "cell_type": "markdown",
   "id": "38b89617",
   "metadata": {},
   "source": [
    "### Bonus\n",
    "* Look up np.random.rand to find which values it can return\n",
    "* Use a plotting package (e.g. matplotlib) to plot the apple weight vs seed count"
   ]
  },
  {
   "cell_type": "code",
   "execution_count": null,
   "id": "a6ad1934",
   "metadata": {},
   "outputs": [],
   "source": []
  },
  {
   "cell_type": "markdown",
   "id": "34c2c05d-d52f-4a38-be42-fc71c4e47f53",
   "metadata": {},
   "source": [
    "### Sidenote - How contrived is this exercise?\n",
    "\n",
    "This is toy problem where we know the answer before we start. The point of this example is understand overall process of iterative improvement. Relationships typically being modelled with ML are more complicated than a simple multiplier, but suprisingly little changes for more complex problems. Here we're modelling a single parameter, but many models used in biology have 10s of millions, but are built out of many simple calculations like our exercise. The math is more advanced (but maybe not as much as you might think) and beyond our scope, but wouldn't serve much practical use anyway since these calculations are never ever done by hand, and a comprehensive understanding of them is not strictly necessary unless researching novel algorithm designs."
   ]
  },
  {
   "cell_type": "markdown",
   "id": "7671afc0-8e38-41f7-aeba-5308772b45eb",
   "metadata": {},
   "source": [
    "## Part 2 - Build out a training loop"
   ]
  },
  {
   "cell_type": "markdown",
   "id": "47364488-5e4e-4123-88dc-17465b0ce6ae",
   "metadata": {},
   "source": [
    "### Steps\n",
    "1. Use nested for-loops to 1) make a random prediction for each sample and 2) go through 10 epochs\n",
    "    * Write a prediction function (named predict_multiplier) for this that guesses a value from -100 to 100\n",
    "2. Write a loss function (named calculate_loss) which finds the difference between the predicted weight and the measured weight\n",
    "    * N.B. the multiplier is the parameter we are trying to guess, the prediction is the multiplier times the number of seeds\n",
    "3. Create a variable that keeps track of the best (lowest) loss value, call it best_loss\n",
    "    * Make a list called best_param_list that appends *another* list of the epoch number, loss, predicted multiplier, actual multiplier, predicted target, actual target, and number of seeds (making a list of lists) whenever a new best loss is found\n",
    "    * Try increasing the number of epochs (make sure you comment out the print statements though!)\n",
    "4. Update the predict function to take in the previous step’s prediction and loss to make the output more accurate\n",
    "    * Add a step before your loop to initialise these values\n",
    "5. Add a learning rate\n",
    "    * Multiply the loss function by learning rate of 0.001\n",
    "    * Try a few different learning rates and compare how they affect the predictions\n",
    "\n"
   ]
  },
  {
   "cell_type": "code",
   "execution_count": null,
   "id": "f7b0d68a-944b-47a8-b7f3-54670497b45a",
   "metadata": {},
   "outputs": [],
   "source": []
  },
  {
   "cell_type": "code",
   "execution_count": null,
   "id": "2363c1d4",
   "metadata": {},
   "outputs": [],
   "source": []
  },
  {
   "cell_type": "code",
   "execution_count": 1,
   "id": "ce33a654-6bac-427c-aa30-3e4b6e06b65f",
   "metadata": {},
   "outputs": [],
   "source": [
    "#Main loop\n"
   ]
  },
  {
   "cell_type": "code",
   "execution_count": null,
   "id": "079e272d-0360-4fdf-85dc-a51470259107",
   "metadata": {},
   "outputs": [],
   "source": []
  },
  {
   "cell_type": "code",
   "execution_count": null,
   "id": "5bb929ae-7fbb-4adc-8c26-bc161b056f2a",
   "metadata": {},
   "outputs": [],
   "source": []
  },
  {
   "cell_type": "code",
   "execution_count": null,
   "id": "117c17ac-c5e4-4ad6-837f-4341a25f1985",
   "metadata": {},
   "outputs": [],
   "source": []
  }
 ],
 "metadata": {
  "kernelspec": {
   "display_name": "Python 3 (ipykernel)",
   "language": "python",
   "name": "python3"
  },
  "language_info": {
   "codemirror_mode": {
    "name": "ipython",
    "version": 3
   },
   "file_extension": ".py",
   "mimetype": "text/x-python",
   "name": "python",
   "nbconvert_exporter": "python",
   "pygments_lexer": "ipython3",
   "version": "3.11.5"
  }
 },
 "nbformat": 4,
 "nbformat_minor": 5
}
